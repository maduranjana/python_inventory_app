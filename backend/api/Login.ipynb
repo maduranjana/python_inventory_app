{
 "cells": [
  {
   "cell_type": "code",
   "execution_count": 2,
   "id": "c1a34c36-def7-4700-82a2-fc9db7dc9746",
   "metadata": {},
   "outputs": [
    {
     "name": "stdout",
     "output_type": "stream",
     "text": [
      "Requirement already satisfied: mysql-connector-python in c:\\users\\mj\\appdata\\local\\programs\\python\\python311\\lib\\site-packages (9.2.0)\n",
      "Requirement already satisfied: pandas in c:\\users\\mj\\appdata\\local\\programs\\python\\python311\\lib\\site-packages (2.2.3)\n",
      "Requirement already satisfied: bcrypt in c:\\users\\mj\\appdata\\local\\programs\\python\\python311\\lib\\site-packages (4.3.0)\n",
      "Requirement already satisfied: numpy>=1.23.2 in c:\\users\\mj\\appdata\\local\\programs\\python\\python311\\lib\\site-packages (from pandas) (1.26.4)\n",
      "Requirement already satisfied: python-dateutil>=2.8.2 in c:\\users\\mj\\appdata\\roaming\\python\\python311\\site-packages (from pandas) (2.9.0.post0)\n",
      "Requirement already satisfied: pytz>=2020.1 in c:\\users\\mj\\appdata\\local\\programs\\python\\python311\\lib\\site-packages (from pandas) (2025.1)\n",
      "Requirement already satisfied: tzdata>=2022.7 in c:\\users\\mj\\appdata\\local\\programs\\python\\python311\\lib\\site-packages (from pandas) (2025.1)\n",
      "Requirement already satisfied: six>=1.5 in c:\\users\\mj\\appdata\\roaming\\python\\python311\\site-packages (from python-dateutil>=2.8.2->pandas) (1.16.0)\n"
     ]
    }
   ],
   "source": [
    "!pip install mysql-connector-python pandas bcrypt"
   ]
  },
  {
   "cell_type": "code",
   "execution_count": 3,
   "id": "50e74ca3-dc39-4361-a294-6389ebefb240",
   "metadata": {},
   "outputs": [
    {
     "name": "stdout",
     "output_type": "stream",
     "text": [
      "Database connection successful!\n"
     ]
    }
   ],
   "source": [
    "import mysql.connector\n",
    "\n",
    "# Function to establish a database connection\n",
    "def get_db_connection():\n",
    "    return mysql.connector.connect(\n",
    "        host=\"localhost\",\n",
    "        user=\"root\",    # Change if you have a different username\n",
    "        password=\"1234\",    # Add your MySQL password if required\n",
    "        database=\"techfix_db\"\n",
    "    )\n",
    "\n",
    "# Test database connection\n",
    "try:\n",
    "    conn = get_db_connection()\n",
    "    print(\"Database connection successful!\")\n",
    "    conn.close()\n",
    "except mysql.connector.Error as err:\n",
    "    print(f\"Error: {err}\")"
   ]
  },
  {
   "cell_type": "code",
   "execution_count": 7,
   "id": "6673dc98-a4e8-4e10-b785-cc66308ac02a",
   "metadata": {},
   "outputs": [
    {
     "name": "stdout",
     "output_type": "stream",
     "text": [
      "✅ tables created successfully.\n"
     ]
    }
   ],
   "source": [
    "def create_users_table():\n",
    "    conn = get_db_connection()\n",
    "    cursor = conn.cursor()\n",
    "    \n",
    "    cursor.execute(\"\"\"\n",
    "        CREATE TABLE IF NOT EXISTS users (\n",
    "            id INT AUTO_INCREMENT PRIMARY KEY,\n",
    "            full_name VARCHAR(100) NOT NULL,\n",
    "            email VARCHAR(100) UNIQUE NOT NULL,\n",
    "            phone VARCHAR(15) UNIQUE  NULL,\n",
    "            location VARCHAR(15) UNIQUE  NULL,\n",
    "            username VARCHAR(50) UNIQUE NOT NULL,\n",
    "            joined_date TIMESTAMP DEFAULT CURRENT_TIMESTAMP,\n",
    "            password VARCHAR(255) NOT NULL,\n",
    "            user_type ENUM('Admin', 'Supplier') DEFAULT 'Supplier',\n",
    "            created_at TIMESTAMP DEFAULT CURRENT_TIMESTAMP\n",
    "        )\n",
    "    \"\"\")\n",
    "\n",
    "    cursor.execute(\"\"\"\n",
    "        CREATE TABLE IF NOT EXISTS quotations (\n",
    "            quotation_id INT AUTO_INCREMENT PRIMARY KEY,\n",
    "            requested_by VARCHAR(100) NOT NULL,\n",
    "            items_needed VARCHAR(300) NOT NULL,       \n",
    "            status ENUM('Pending', 'Completed') DEFAULT 'Pending',\n",
    "            request_date TIMESTAMP DEFAULT CURRENT_TIMESTAMP\n",
    "        )\n",
    "    \"\"\")\n",
    "\n",
    "    cursor.execute(\"\"\"\n",
    "        CREATE TABLE IF NOT EXISTS orders (\n",
    "    order_id INT AUTO_INCREMENT PRIMARY KEY,\n",
    "    ordered_by VARCHAR(100) NOT NULL,\n",
    "    items VARCHAR(300) NOT NULL,\n",
    "    order_date TIMESTAMP DEFAULT CURRENT_TIMESTAMP,\n",
    "    supplier VARCHAR(100) NOT NULL,\n",
    "    order_status ENUM('Pending', 'Processing', 'Completed') DEFAULT 'Pending'\n",
    ")\n",
    "\n",
    "    \"\"\")\n",
    "\n",
    "    cursor.execute(\"\"\"\n",
    "        CREATE TABLE IF NOT EXISTS inventory (\n",
    "    id INT AUTO_INCREMENT PRIMARY KEY,\n",
    "    part_number VARCHAR(50) NOT NULL,\n",
    "    item_name VARCHAR(100) NOT NULL,\n",
    "    stock_status VARCHAR(100) NOT NULL,\n",
    "    reorder_level INT NOT NULL,\n",
    "    unit_price DECIMAL(10,2) NULL,\n",
    "    item_quantity INT NOT NULL,\n",
    "    created_at TIMESTAMP DEFAULT CURRENT_TIMESTAMP\n",
    ");\n",
    "\n",
    "\n",
    "    \"\"\")\n",
    "\n",
    "\n",
    "    \n",
    "    conn.commit()\n",
    "    conn.close()\n",
    "    print(\"✅ tables created successfully.\")\n",
    "\n",
    "# Run this function to create the table\n",
    "create_users_table()"
   ]
  },
  {
   "cell_type": "code",
   "execution_count": 44,
   "id": "22c516ce-6994-4843-9f3d-c0de63d7ca4e",
   "metadata": {},
   "outputs": [
    {
     "name": "stdout",
     "output_type": "stream",
     "text": [
      "✅ User michel registered successfully.\n"
     ]
    }
   ],
   "source": [
    "\n",
    "import bcrypt\n",
    "\n",
    "def register_user(full_name, email, username, password, user_type=\"Supplier\",phone =\"32322\"):\n",
    "    conn = get_db_connection()\n",
    "    cursor = conn.cursor()\n",
    "    \n",
    "    # Hash the password before storing it\n",
    "    hashed_password = bcrypt.hashpw(password.encode('utf-8'), bcrypt.gensalt())\n",
    "    \n",
    "    try:\n",
    "        cursor.execute(\"\"\"\n",
    "            INSERT INTO users (full_name, email, username, password, user_type,phone)\n",
    "            VALUES (%s, %s, %s, %s, %s,%s)\n",
    "        \"\"\", (full_name, email, username, hashed_password, user_type, phone))\n",
    "        \n",
    "        conn.commit()\n",
    "        print(f\"✅ User {username} registered successfully.\")\n",
    "    except mysql.connector.Error as err:\n",
    "        print(f\"❌ Error: {err}\")\n",
    "    finally:\n",
    "        conn.close()\n",
    "\n",
    "# Example test registration\n",
    "register_user(\"michel\", \"michel.doe@example.com\", \"michel\", \"123\", \"Supplier\",\"09122111\")\n"
   ]
  },
  {
   "cell_type": "code",
   "execution_count": 42,
   "id": "61fd352d-3968-431e-9960-4c9ef9cfb50b",
   "metadata": {},
   "outputs": [
    {
     "data": {
      "text/html": [
       "<div>\n",
       "<style scoped>\n",
       "    .dataframe tbody tr th:only-of-type {\n",
       "        vertical-align: middle;\n",
       "    }\n",
       "\n",
       "    .dataframe tbody tr th {\n",
       "        vertical-align: top;\n",
       "    }\n",
       "\n",
       "    .dataframe thead th {\n",
       "        text-align: right;\n",
       "    }\n",
       "</style>\n",
       "<table border=\"1\" class=\"dataframe\">\n",
       "  <thead>\n",
       "    <tr style=\"text-align: right;\">\n",
       "      <th></th>\n",
       "      <th>id</th>\n",
       "      <th>full_name</th>\n",
       "      <th>email</th>\n",
       "      <th>username</th>\n",
       "      <th>user_type</th>\n",
       "      <th>created_at</th>\n",
       "    </tr>\n",
       "  </thead>\n",
       "  <tbody>\n",
       "    <tr>\n",
       "      <th>0</th>\n",
       "      <td>1</td>\n",
       "      <td>michel</td>\n",
       "      <td>michel.doe@example.com</td>\n",
       "      <td>michel</td>\n",
       "      <td>Supplier</td>\n",
       "      <td>2025-03-18 12:54:36</td>\n",
       "    </tr>\n",
       "  </tbody>\n",
       "</table>\n",
       "</div>"
      ],
      "text/plain": [
       "   id full_name                   email username user_type          created_at\n",
       "0   1    michel  michel.doe@example.com   michel  Supplier 2025-03-18 12:54:36"
      ]
     },
     "metadata": {},
     "output_type": "display_data"
    }
   ],
   "source": [
    "import pandas as pd\n",
    "\n",
    "def get_all_users():\n",
    "    conn = get_db_connection()\n",
    "    cursor = conn.cursor(dictionary=True)\n",
    "    \n",
    "    cursor.execute(\"SELECT id, full_name, email, username, user_type, created_at FROM users\")\n",
    "    users = cursor.fetchall()\n",
    "    \n",
    "    conn.close()\n",
    "    \n",
    "    return users\n",
    "\n",
    "# Display all users\n",
    "users_list = get_all_users()\n",
    "df = pd.DataFrame(users_list)\n",
    "\n",
    "# Display DataFrame properly in Jupyter Notebook\n",
    "from IPython.display import display\n",
    "display(df)\n"
   ]
  },
  {
   "cell_type": "code",
   "execution_count": 36,
   "id": "ca04fbbc-6733-4caa-a254-ef0e4dcb1f74",
   "metadata": {},
   "outputs": [
    {
     "name": "stdout",
     "output_type": "stream",
     "text": [
      "❌ Invalid username or password.\n"
     ]
    }
   ],
   "source": [
    "def login_user(username, password):\n",
    "    conn = get_db_connection()\n",
    "    cursor = conn.cursor(dictionary=True)\n",
    "    \n",
    "    # Hash the input password for comparison\n",
    "    hashed_password = bcrypt.hashpw(password.encode('utf-8'), bcrypt.gensalt())\n",
    "    \n",
    "    cursor.execute(\"\"\"\n",
    "        SELECT * FROM users WHERE username = %s AND password = %s\n",
    "    \"\"\", (username, hashed_password))\n",
    "    \n",
    "    user = cursor.fetchone()\n",
    "    conn.close()\n",
    "    \n",
    "    if user:\n",
    "        print(f\"✅ Login successful. Welcome, {user['full_name']}!\")\n",
    "        return user\n",
    "    else:\n",
    "        print(\"❌ Invalid username or password.\")\n",
    "        return None\n",
    "\n",
    "# Example test login\n",
    "login_user(\"michel\", \"123\")\n"
   ]
  },
  {
   "cell_type": "code",
   "execution_count": null,
   "id": "cb3911fc-5336-415b-92d8-12de7cfd9e4c",
   "metadata": {},
   "outputs": [],
   "source": []
  }
 ],
 "metadata": {
  "kernelspec": {
   "display_name": "Python 3",
   "language": "python",
   "name": "python3"
  },
  "language_info": {
   "codemirror_mode": {
    "name": "ipython",
    "version": 3
   },
   "file_extension": ".py",
   "mimetype": "text/x-python",
   "name": "python",
   "nbconvert_exporter": "python",
   "pygments_lexer": "ipython3",
   "version": "3.11.8"
  }
 },
 "nbformat": 4,
 "nbformat_minor": 5
}
