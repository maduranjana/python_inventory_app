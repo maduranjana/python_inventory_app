{
 "cells": [
  {
   "cell_type": "code",
   "execution_count": 1,
   "id": "14d9dfe9-7610-457d-bb5f-a24f6a3d2037",
   "metadata": {},
   "outputs": [
    {
     "name": "stdout",
     "output_type": "stream",
     "text": [
      "Collecting mysql-connector-python\n",
      "  Using cached mysql_connector_python-9.2.0-cp312-cp312-win_amd64.whl.metadata (6.2 kB)\n",
      "Using cached mysql_connector_python-9.2.0-cp312-cp312-win_amd64.whl (16.1 MB)\n",
      "Installing collected packages: mysql-connector-python\n",
      "Successfully installed mysql-connector-python-9.2.0\n"
     ]
    }
   ],
   "source": [
    "!pip install mysql-connector-python"
   ]
  },
  {
   "cell_type": "code",
   "execution_count": 2,
   "id": "f27c02e1-0c6c-49e7-b95f-5e7d083aee9e",
   "metadata": {},
   "outputs": [
    {
     "name": "stdout",
     "output_type": "stream",
     "text": [
      "Database connection successful!\n"
     ]
    }
   ],
   "source": [
    "import mysql.connector\n",
    "\n",
    "# Function to establish a database connection\n",
    "def get_db_connection():\n",
    "    return mysql.connector.connect(\n",
    "        host=\"localhost\",\n",
    "        user=\"root\",    # Change if you have a different username\n",
    "        password=\"\",    # Add your MySQL password if required\n",
    "        database=\"techfix_db\"\n",
    "    )\n",
    "\n",
    "# Test database connection\n",
    "try:\n",
    "    conn = get_db_connection()\n",
    "    print(\"Database connection successful!\")\n",
    "    conn.close()\n",
    "except mysql.connector.Error as err:\n",
    "    print(f\"Error: {err}\")\n"
   ]
  },
  {
   "cell_type": "code",
   "execution_count": 3,
   "id": "a6feab7f-4c87-496d-9f35-6933ca1dae24",
   "metadata": {},
   "outputs": [
    {
     "name": "stdout",
     "output_type": "stream",
     "text": [
      "✅ Users table created successfully.\n"
     ]
    }
   ],
   "source": [
    "def create_users_table():\n",
    "    conn = get_db_connection()\n",
    "    cursor = conn.cursor()\n",
    "    \n",
    "    cursor.execute(\"\"\"\n",
    "        CREATE TABLE IF NOT EXISTS users (\n",
    "            id INT AUTO_INCREMENT PRIMARY KEY,\n",
    "            full_name VARCHAR(100) NOT NULL,\n",
    "            email VARCHAR(100) UNIQUE NOT NULL,\n",
    "            username VARCHAR(50) UNIQUE NOT NULL,\n",
    "            password VARCHAR(255) NOT NULL,\n",
    "            user_type ENUM('Admin', 'Supplier') DEFAULT 'Supplier',\n",
    "            created_at TIMESTAMP DEFAULT CURRENT_TIMESTAMP\n",
    "        )\n",
    "    \"\"\")\n",
    "    \n",
    "    conn.commit()\n",
    "    conn.close()\n",
    "    print(\"✅ Users table created successfully.\")\n",
    "\n",
    "# Run this function to create the table\n",
    "create_users_table()\n"
   ]
  },
  {
   "cell_type": "code",
   "execution_count": 4,
   "id": "db4fc466-f067-4764-a52e-c96bb1576012",
   "metadata": {},
   "outputs": [
    {
     "name": "stdout",
     "output_type": "stream",
     "text": [
      "✅ User johndoe registered successfully.\n"
     ]
    }
   ],
   "source": [
    "import hashlib\n",
    "\n",
    "def register_user(full_name, email, username, password, user_type=\"Supplier\"):\n",
    "    conn = get_db_connection()\n",
    "    cursor = conn.cursor()\n",
    "    \n",
    "    # Hash the password before storing it\n",
    "    hashed_password = hashlib.sha256(password.encode()).hexdigest()\n",
    "    \n",
    "    try:\n",
    "        cursor.execute(\"\"\"\n",
    "            INSERT INTO users (full_name, email, username, password, user_type)\n",
    "            VALUES (%s, %s, %s, %s, %s)\n",
    "        \"\"\", (full_name, email, username, hashed_password, user_type))\n",
    "        \n",
    "        conn.commit()\n",
    "        print(f\"✅ User {username} registered successfully.\")\n",
    "    except mysql.connector.Error as err:\n",
    "        print(f\"❌ Error: {err}\")\n",
    "    finally:\n",
    "        conn.close()\n",
    "\n",
    "# Example test registration\n",
    "register_user(\"John Doe\", \"john.doe@example.com\", \"johndoe\", \"securepassword123\", \"Supplier\")\n"
   ]
  },
  {
   "cell_type": "code",
   "execution_count": 5,
   "id": "bc1adbf5-9846-4e96-9b80-cceb7be274f1",
   "metadata": {},
   "outputs": [
    {
     "ename": "ModuleNotFoundError",
     "evalue": "No module named 'ace_tools'",
     "output_type": "error",
     "traceback": [
      "\u001b[1;31m---------------------------------------------------------------------------\u001b[0m",
      "\u001b[1;31mModuleNotFoundError\u001b[0m                       Traceback (most recent call last)",
      "Cell \u001b[1;32mIn[5], line 17\u001b[0m\n\u001b[0;32m     14\u001b[0m users_list \u001b[38;5;241m=\u001b[39m get_all_users()\n\u001b[0;32m     15\u001b[0m df \u001b[38;5;241m=\u001b[39m pd\u001b[38;5;241m.\u001b[39mDataFrame(users_list)\n\u001b[1;32m---> 17\u001b[0m \u001b[38;5;28;01mimport\u001b[39;00m \u001b[38;5;21;01mace_tools\u001b[39;00m \u001b[38;5;28;01mas\u001b[39;00m \u001b[38;5;21;01mtools\u001b[39;00m\n\u001b[0;32m     18\u001b[0m tools\u001b[38;5;241m.\u001b[39mdisplay_dataframe_to_user(name\u001b[38;5;241m=\u001b[39m\u001b[38;5;124m\"\u001b[39m\u001b[38;5;124mUsers Table\u001b[39m\u001b[38;5;124m\"\u001b[39m, dataframe\u001b[38;5;241m=\u001b[39mdf)\n",
      "\u001b[1;31mModuleNotFoundError\u001b[0m: No module named 'ace_tools'"
     ]
    }
   ],
   "source": [
    "def get_all_users():\n",
    "    conn = get_db_connection()\n",
    "    cursor = conn.cursor(dictionary=True)\n",
    "    \n",
    "    cursor.execute(\"SELECT id, full_name, email, username, user_type, created_at FROM users\")\n",
    "    users = cursor.fetchall()\n",
    "    \n",
    "    conn.close()\n",
    "    \n",
    "    return users\n",
    "\n",
    "# Display all users\n",
    "import pandas as pd\n",
    "users_list = get_all_users()\n",
    "df = pd.DataFrame(users_list)\n",
    "\n",
    "import ace_tools as tools\n",
    "tools.display_dataframe_to_user(name=\"Users Table\", dataframe=df)\n"
   ]
  },
  {
   "cell_type": "code",
   "execution_count": 6,
   "id": "41492f84-fc2a-4ca8-9455-8cbdace81647",
   "metadata": {},
   "outputs": [
    {
     "data": {
      "text/html": [
       "<div>\n",
       "<style scoped>\n",
       "    .dataframe tbody tr th:only-of-type {\n",
       "        vertical-align: middle;\n",
       "    }\n",
       "\n",
       "    .dataframe tbody tr th {\n",
       "        vertical-align: top;\n",
       "    }\n",
       "\n",
       "    .dataframe thead th {\n",
       "        text-align: right;\n",
       "    }\n",
       "</style>\n",
       "<table border=\"1\" class=\"dataframe\">\n",
       "  <thead>\n",
       "    <tr style=\"text-align: right;\">\n",
       "      <th></th>\n",
       "      <th>id</th>\n",
       "      <th>full_name</th>\n",
       "      <th>email</th>\n",
       "      <th>username</th>\n",
       "      <th>user_type</th>\n",
       "      <th>created_at</th>\n",
       "    </tr>\n",
       "  </thead>\n",
       "  <tbody>\n",
       "    <tr>\n",
       "      <th>0</th>\n",
       "      <td>1</td>\n",
       "      <td>John Doe</td>\n",
       "      <td>john.doe@example.com</td>\n",
       "      <td>johndoe</td>\n",
       "      <td>Supplier</td>\n",
       "      <td>2025-03-07 14:29:19</td>\n",
       "    </tr>\n",
       "  </tbody>\n",
       "</table>\n",
       "</div>"
      ],
      "text/plain": [
       "   id full_name                 email username user_type          created_at\n",
       "0   1  John Doe  john.doe@example.com  johndoe  Supplier 2025-03-07 14:29:19"
      ]
     },
     "metadata": {},
     "output_type": "display_data"
    }
   ],
   "source": [
    "import pandas as pd\n",
    "\n",
    "def get_all_users():\n",
    "    conn = get_db_connection()\n",
    "    cursor = conn.cursor(dictionary=True)\n",
    "    \n",
    "    cursor.execute(\"SELECT id, full_name, email, username, user_type, created_at FROM users\")\n",
    "    users = cursor.fetchall()\n",
    "    \n",
    "    conn.close()\n",
    "    \n",
    "    return users\n",
    "\n",
    "# Display all users\n",
    "users_list = get_all_users()\n",
    "df = pd.DataFrame(users_list)\n",
    "\n",
    "# Display DataFrame properly in Jupyter Notebook\n",
    "from IPython.display import display\n",
    "display(df)\n"
   ]
  },
  {
   "cell_type": "code",
   "execution_count": 7,
   "id": "0106f0b5-693f-4d6d-b275-4dd8a4f82db1",
   "metadata": {},
   "outputs": [
    {
     "name": "stdout",
     "output_type": "stream",
     "text": [
      "✅ Login successful. Welcome, John Doe!\n"
     ]
    },
    {
     "data": {
      "text/plain": [
       "{'id': 1,\n",
       " 'full_name': 'John Doe',\n",
       " 'email': 'john.doe@example.com',\n",
       " 'username': 'johndoe',\n",
       " 'password': 'dda69783f28fdf6f1c5a83e8400f2472e9300887d1dffffe12a07b92a3d0aa25',\n",
       " 'user_type': 'Supplier',\n",
       " 'created_at': datetime.datetime(2025, 3, 7, 14, 29, 19)}"
      ]
     },
     "execution_count": 7,
     "metadata": {},
     "output_type": "execute_result"
    }
   ],
   "source": [
    "def login_user(username, password):\n",
    "    conn = get_db_connection()\n",
    "    cursor = conn.cursor(dictionary=True)\n",
    "    \n",
    "    # Hash the input password for comparison\n",
    "    hashed_password = hashlib.sha256(password.encode()).hexdigest()\n",
    "    \n",
    "    cursor.execute(\"\"\"\n",
    "        SELECT * FROM users WHERE username = %s AND password = %s\n",
    "    \"\"\", (username, hashed_password))\n",
    "    \n",
    "    user = cursor.fetchone()\n",
    "    conn.close()\n",
    "    \n",
    "    if user:\n",
    "        print(f\"✅ Login successful. Welcome, {user['full_name']}!\")\n",
    "        return user\n",
    "    else:\n",
    "        print(\"❌ Invalid username or password.\")\n",
    "        return None\n",
    "\n",
    "# Example test login\n",
    "login_user(\"johndoe\", \"securepassword123\")\n"
   ]
  },
  {
   "cell_type": "code",
   "execution_count": null,
   "id": "aa0a7eb4-398c-42d3-ab58-7006f330a145",
   "metadata": {},
   "outputs": [],
   "source": []
  }
 ],
 "metadata": {
  "kernelspec": {
   "display_name": "Python 3 (ipykernel)",
   "language": "python",
   "name": "python3"
  },
  "language_info": {
   "codemirror_mode": {
    "name": "ipython",
    "version": 3
   },
   "file_extension": ".py",
   "mimetype": "text/x-python",
   "name": "python",
   "nbconvert_exporter": "python",
   "pygments_lexer": "ipython3",
   "version": "3.12.7"
  }
 },
 "nbformat": 4,
 "nbformat_minor": 5
}
